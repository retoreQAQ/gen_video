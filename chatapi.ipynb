{
 "cells": [
  {
   "cell_type": "code",
   "execution_count": 2,
   "metadata": {},
   "outputs": [],
   "source": [
    "from openai import OpenAI\n",
    "\n",
    "client = OpenAI(api_key=\"sk-\", base_url=\"https://api.deepseek.com\")\n",
    "\n",
    "response = client.chat.completions.create(\n",
    "    model=\"deepseek-chat\",\n",
    "    messages=[\n",
    "        {\"role\": \"system\", \"content\": \"You are a helpful assistant\"},\n",
    "        {\"role\": \"user\", \"content\": \"Hello\"},\n",
    "    ],\n",
    "    stream=False\n",
    ")\n",
    "\n",
    "print(response.choices[0].message.content)\n"
   ]
  },
  {
   "cell_type": "code",
   "execution_count": 1,
   "metadata": {},
   "outputs": [
    {
     "ename": "NameError",
     "evalue": "name 'OpenAI' is not defined",
     "output_type": "error",
     "traceback": [
      "\u001b[0;31m---------------------------------------------------------------------------\u001b[0m",
      "\u001b[0;31mNameError\u001b[0m                                 Traceback (most recent call last)",
      "Cell \u001b[0;32mIn[1], line 1\u001b[0m\n\u001b[0;32m----> 1\u001b[0m client \u001b[38;5;241m=\u001b[39m \u001b[43mOpenAI\u001b[49m(api_key\u001b[38;5;241m=\u001b[39m\u001b[38;5;124m\"\u001b[39m\u001b[38;5;124m\"\u001b[39m)\n\u001b[1;32m      3\u001b[0m response \u001b[38;5;241m=\u001b[39m client\u001b[38;5;241m.\u001b[39mresponses\u001b[38;5;241m.\u001b[39mcreate(\n\u001b[1;32m      4\u001b[0m     model\u001b[38;5;241m=\u001b[39m\u001b[38;5;124m\"\u001b[39m\u001b[38;5;124mgpt-4o\u001b[39m\u001b[38;5;124m\"\u001b[39m,\n\u001b[1;32m      5\u001b[0m     \u001b[38;5;28minput\u001b[39m\u001b[38;5;241m=\u001b[39m\u001b[38;5;124m\"\u001b[39m\u001b[38;5;124mWrite a one-sentence bedtime story about a unicorn.\u001b[39m\u001b[38;5;124m\"\u001b[39m\n\u001b[1;32m      6\u001b[0m )\n\u001b[1;32m      8\u001b[0m \u001b[38;5;28mprint\u001b[39m(response\u001b[38;5;241m.\u001b[39moutput_text)\n",
      "\u001b[0;31mNameError\u001b[0m: name 'OpenAI' is not defined"
     ]
    }
   ],
   "source": [
    "\n",
    "client = OpenAI(api_key=\"\")\n",
    "\n",
    "response = client.responses.create(\n",
    "    model=\"gpt-4o\",\n",
    "    input=\"Write a one-sentence bedtime story about a unicorn.\"\n",
    ")\n",
    "\n",
    "print(response.output_text)"
   ]
  },
  {
   "cell_type": "code",
   "execution_count": null,
   "metadata": {},
   "outputs": [],
   "source": [
    "\n",
    "# system prompt，用于告诉GPT当前的情景，不了解可以放空，没有影响。\n",
    "# system prompt例如：'You are a marketing consultant, please answer the client's questions in profession style.'\n",
    "system_content = '你是我的女朋友，请自己设定你自己的性格，背景，跟我的关系。'\n",
    "\n",
    "\n",
    "# 这里使用了langchain包简化与GPT的对话过程，基于的是GPT-3.5，能力与免费版的chatGPT相同。GPT-4需要自行申请加入waitlist\n",
    "messages = [SystemMessage(content = system_content)]\n",
    "\n",
    "\n",
    "# 一轮最多对话20次，防止过长的对话。可以通过while循环条件修改。\n",
    "i = 1\n",
    "while i <= 20:\n",
    "    chat = ChatOpenAI(temperature=0,openai_api_key=openai.api_key)\n",
    "    \n",
    "    user_input = input()\n",
    "    \n",
    "   \t# 输入\\end结束\n",
    "    if user_input == '\\end': \n",
    "        break\n",
    "    # 输入\\clear清空当前对话重来，重置对话场景\n",
    "    if user_input == '\\clear':\n",
    "        i = 1\n",
    "        messages = [SystemMessage(content = system_content)] \n",
    "        continue\n",
    "    \n",
    "    messages.append(HumanMessage(content=user_input))\n",
    "    \n",
    "    response = chat(messages)\n",
    "    messages.append(AIMessage(content = response.content))  # 将GPT回复加入到对话\n",
    "    \n",
    "    print(\"[GPT] Round \"+ str(i))\n",
    "    display(Markdown(response.content))\n",
    "    \n",
    "    i = i + 1\n",
    "\n",
    "print(\"\\n --- END ---\")   "
   ]
  },
  {
   "cell_type": "code",
   "execution_count": 1,
   "metadata": {},
   "outputs": [
    {
     "name": "stdout",
     "output_type": "stream",
     "text": [
      "已成功去除所有场景文本中的空格\n"
     ]
    }
   ],
   "source": [
    "import json\n",
    "\n",
    "# 读取split_story.json文件\n",
    "with open('/home/you/workspace/son/gen_video/output/temp/split_story.json', 'r', encoding='utf-8') as f:\n",
    "    split_story = json.load(f)\n",
    "\n",
    "# 去除每个场景text字段中的空格\n",
    "for scene in split_story:\n",
    "    scene['text'] = scene['text'].replace(' ', '')\n",
    "\n",
    "# 保存修改后的文件\n",
    "with open('/home/you/workspace/son/gen_video/output/temp/split_story.json', 'w', encoding='utf-8') as f:\n",
    "    json.dump(split_story, f, ensure_ascii=False, indent=2)\n",
    "\n",
    "print('已成功去除所有场景文本中的空格')\n"
   ]
  },
  {
   "cell_type": "code",
   "execution_count": 1,
   "metadata": {},
   "outputs": [
    {
     "name": "stdout",
     "output_type": "stream",
     "text": [
      "/home/you/anaconda3/envs/genvideo/lib/python3.10/site-packages/torch/__init__.py\n",
      "2.5.1\n",
      "True\n",
      "cpu\n"
     ]
    }
   ],
   "source": [
    "import torch\n",
    "print(torch.__file__)\n",
    "print(torch.__version__)\n",
    "\n",
    "print(torch.cuda.is_available())\n",
    "\n",
    "print(torch.get_default_device())\n",
    "\n"
   ]
  }
 ],
 "metadata": {
  "kernelspec": {
   "display_name": "genvideo",
   "language": "python",
   "name": "python3"
  },
  "language_info": {
   "codemirror_mode": {
    "name": "ipython",
    "version": 3
   },
   "file_extension": ".py",
   "mimetype": "text/x-python",
   "name": "python",
   "nbconvert_exporter": "python",
   "pygments_lexer": "ipython3",
   "version": "3.10.17"
  }
 },
 "nbformat": 4,
 "nbformat_minor": 2
}
